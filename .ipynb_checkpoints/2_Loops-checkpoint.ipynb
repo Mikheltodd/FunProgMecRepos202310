{
 "cells": [
  {
   "cell_type": "code",
   "execution_count": 64,
   "id": "824503a4",
   "metadata": {},
   "outputs": [
    {
     "name": "stdout",
     "output_type": "stream",
     "text": [
      "['Suizo', 'Choclitos', 'Pizza', 'Doritos', 'Pizza', 'Pizza', 'Doritos', 'Hot Dog']\n",
      "[5, 9, 0, 7, 0, 0, 7, 7]\n"
     ]
    }
   ],
   "source": [
    "# Lista vacía\n",
    "junk_food = []\n",
    "#print(junk_food)\n",
    "\n",
    "# Agregando elementos\n",
    "junk_food.append(\"Hot Dog\")\n",
    "#print(junk_food)\n",
    "junk_food.append(\"Burguer\")\n",
    "junk_food.append(\"Pizza\")\n",
    "#print(junk_food)\n",
    "#print(type(junk_food))\n",
    "snacks = [\"DeTodito\", \"Doritos\", \"Takis\"]\n",
    "#print(snacks)\n",
    "junk_food += snacks\n",
    "#print(junk_food)\n",
    "\n",
    "# Accediendo a los elementos\n",
    "#print(junk_food)\n",
    "#print(junk_food[0])\n",
    "#print(junk_food[1])\n",
    "#print(junk_food[-1])\n",
    "#print(junk_food[-2])\n",
    "\n",
    "# Slicing\n",
    "#print(junk_food[1:-2])\n",
    "#print(junk_food[1:4])\n",
    "#print(junk_food[:3])\n",
    "#print(junk_food[3:])\n",
    "#print(junk_food[-4:])\n",
    "#print(junk_food[:-2])\n",
    "\n",
    "# Modificar elementos\n",
    "junk_food[-1] = \"Yupi\"\n",
    "junk_food[0] = \"Suizo\"\n",
    "#print(junk_food)\n",
    "\n",
    "# Remover elementos\n",
    "#junk_food.remove(\"Detodito\")\n",
    "junk_food.remove(\"DeTodito\")\n",
    "#print(junk_food)\n",
    "\n",
    "# Insertar elementos\n",
    "junk_food.insert(-1, \"Quipitos\")\n",
    "junk_food.insert(2, \"Choclitos\")\n",
    "#print(junk_food)\n",
    "\n",
    "# Pop\n",
    "junk_food.pop()\n",
    "junk_food.pop()\n",
    "junk_food.pop(1)\n",
    "#print(junk_food)\n",
    "\n",
    "# Range\n",
    "#print(list(range(10)))\n",
    "#print(list(range(3, 10)))\n",
    "#print(list(range(3, 10, 2)))\n",
    "#print(list(range(5, -10, -3)))\n",
    "#print(len(junk_food))\n",
    "#print(list(range(len(junk_food))))\n",
    "\n",
    "# Contar\n",
    "junk_food.append(\"Pizza\")\n",
    "junk_food.append(\"Pizza\")\n",
    "junk_food.append(\"Doritos\")\n",
    "junk_food.append(\"Hot Dog\")\n",
    "#print(junk_food)\n",
    "#print(junk_food.count(\"Pizza\"))\n",
    "#print(junk_food.count(\"Burguer\"))\n",
    "\n",
    "# Ordenar\n",
    "sorted_junk_food = sorted(junk_food)\n",
    "#junk_food.sort()\n",
    "#print(junk_food)\n",
    "#print(sorted_junk_food)\n",
    "\n",
    "# Ciclos For\n",
    "#print(junk_food)\n",
    "#for food in junk_food:\n",
    "#    print(\"-\", food)\n",
    "    \n",
    "#for i in range(len(junk_food)):\n",
    "    #pass\n",
    "#    print(i, \"-\", junk_food[i])\n",
    "    \n",
    "# While\n",
    "#index = 0\n",
    "#while index < len(junk_food):\n",
    "#    print(index, \"-\", junk_food[index])\n",
    "#    index += 1\n",
    "\n",
    "# Break\n",
    "#print(junk_food)\n",
    "#request = \"Doritos\"\n",
    "\n",
    "#for food in junk_food:\n",
    "#    print(food)\n",
    "#    if food == request:\n",
    "#        print(\"Encontrado\")\n",
    "#        break\n",
    "\n",
    "# Continue\n",
    "#print(junk_food)\n",
    "#request = \"Doritos\"\n",
    "\n",
    "#for food in junk_food:\n",
    "#    if food ==  request:\n",
    "#        continue\n",
    "#    else:\n",
    "#        print(food)\n",
    "        \n",
    "# List comprehension\n",
    "print(junk_food)\n",
    "#print(len(junk_food[2]))\n",
    "#for food in junk_food:\n",
    "#    print(len(food))\n",
    "\n",
    "#cant_letras = [len(food) for food in junk_food]\n",
    "#cant_letras = [len(food) for food in junk_food if food != \"Doritos\"]\n",
    "cant_letras = [len(food) if food != \"Pizza\" else 0 for food in junk_food]\n",
    "print(cant_letras)"
   ]
  },
  {
   "cell_type": "code",
   "execution_count": 1,
   "id": "a81226d2",
   "metadata": {},
   "outputs": [
    {
     "name": "stdout",
     "output_type": "stream",
     "text": [
      "B\n"
     ]
    }
   ],
   "source": [
    "a = [1, 2, 3]\n",
    "b = [4, 5, 6]\n",
    "\n",
    "a_sum = 0\n",
    "b_sum = 0\n",
    "\n",
    "for i in a:\n",
    "    a_sum += i\n",
    "    \n",
    "for i in b:\n",
    "    b_sum += i\n",
    "    \n",
    "if a_sum > b_sum:\n",
    "    print(\"A\")\n",
    "else:\n",
    "    print(\"B\")"
   ]
  },
  {
   "cell_type": "code",
   "execution_count": 4,
   "id": "bd09231f",
   "metadata": {},
   "outputs": [
    {
     "name": "stdout",
     "output_type": "stream",
     "text": [
      "B\n"
     ]
    }
   ],
   "source": [
    "a = [1, 2, 3]\n",
    "b = [4, 5, 6]\n",
    "\n",
    "print(\"A\") if sum(a) > sum(b) else print(\"B\")"
   ]
  },
  {
   "cell_type": "code",
   "execution_count": null,
   "id": "47fbb262",
   "metadata": {},
   "outputs": [],
   "source": []
  }
 ],
 "metadata": {
  "kernelspec": {
   "display_name": "Python 3 (ipykernel)",
   "language": "python",
   "name": "python3"
  },
  "language_info": {
   "codemirror_mode": {
    "name": "ipython",
    "version": 3
   },
   "file_extension": ".py",
   "mimetype": "text/x-python",
   "name": "python",
   "nbconvert_exporter": "python",
   "pygments_lexer": "ipython3",
   "version": "3.10.6"
  }
 },
 "nbformat": 4,
 "nbformat_minor": 5
}
