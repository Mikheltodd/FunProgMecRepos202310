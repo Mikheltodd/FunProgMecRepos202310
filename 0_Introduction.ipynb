{
  "cells": [
    {
      "cell_type": "markdown",
      "id": "6bb7deb9",
      "metadata": {
        "id": "6bb7deb9"
      },
      "source": [
        "# Introducción\n",
        "\n",
        "## Primeros Pasos\n",
        "\n",
        "Este es un párrafo en Markdown. Se escribe normalito.\n",
        "\n",
        "Algunos estilos son: _Esto es cursiva_, **Esto es negrita**\n",
        "\n",
        "Si quiero agregar código en línea, utilizo el backtip: `variable_1`, `variable_2`\n",
        "\n",
        "Y LaTeX para ecuaciones: $x, y, z$\n",
        "\n",
        "$$ y = mx + b $$\n",
        "\n",
        "## Listas Desordenadas\n",
        "\n",
        "Ingredientes:\n",
        "- Harina\n",
        "- Huevo\n",
        "- Leche\n",
        "- Azúcar\n",
        "- Mantequilla\n",
        "\n",
        "\n",
        "## Listas Ordenadas\n",
        "\n",
        "Receta:\n",
        "\n",
        "1. Mezcle los ingredientes secos (harina, azúcar)\n",
        "2. Agregue la leche y el huevo\n",
        "3. Mezcle con la mantequilla\n",
        "\n",
        "### Texto \"Estilizado\" o para frases:\n",
        "\n",
        "> Esta es una información importante"
      ]
    },
    {
      "cell_type": "code",
      "execution_count": null,
      "id": "f5e3c6e7",
      "metadata": {
        "id": "f5e3c6e7",
        "outputId": "e25f79cf-c5b8-4498-a6bc-d8dd5c0216f9"
      },
      "outputs": [
        {
          "name": "stdout",
          "output_type": "stream",
          "text": [
            "Bienvenidos a Python\n",
            "Hola Mikheltodd es un gusto conocerte.\n"
          ]
        }
      ],
      "source": [
        "print(\"Bienvenidos a Python\")\n",
        "name = \"Mikheltodd\"\n",
        "print(\"Hola\", name, \"es un gusto conocerte.\")"
      ]
    },
    {
      "cell_type": "markdown",
      "source": [
        "## Comentarios"
      ],
      "metadata": {
        "id": "HXIWqagntisn"
      },
      "id": "HXIWqagntisn"
    },
    {
      "cell_type": "code",
      "execution_count": 1,
      "id": "f66c5d54",
      "metadata": {
        "id": "f66c5d54"
      },
      "outputs": [],
      "source": [
        "# Este es un comentario"
      ]
    },
    {
      "cell_type": "code",
      "source": [],
      "metadata": {
        "id": "WiMoh3LxuN5O"
      },
      "id": "WiMoh3LxuN5O",
      "execution_count": null,
      "outputs": []
    },
    {
      "cell_type": "markdown",
      "source": [
        "## Variables"
      ],
      "metadata": {
        "id": "bQuAFMwMvUbb"
      },
      "id": "bQuAFMwMvUbb"
    },
    {
      "cell_type": "code",
      "source": [
        "name = \"Miguel\"\n",
        "print(name)"
      ],
      "metadata": {
        "colab": {
          "base_uri": "https://localhost:8080/"
        },
        "id": "Oxk6exDbvWai",
        "outputId": "bcb3b837-eae0-43d0-fcf1-bdd66a7ae611"
      },
      "id": "Oxk6exDbvWai",
      "execution_count": 2,
      "outputs": [
        {
          "output_type": "stream",
          "name": "stdout",
          "text": [
            "Miguel\n"
          ]
        }
      ]
    },
    {
      "cell_type": "code",
      "source": [
        "age = 31\n",
        "height = 1.72"
      ],
      "metadata": {
        "id": "-HKOXro6vnTk"
      },
      "id": "-HKOXro6vnTk",
      "execution_count": 3,
      "outputs": []
    },
    {
      "cell_type": "code",
      "source": [
        "print(type(age))\n",
        "print(type(height))"
      ],
      "metadata": {
        "colab": {
          "base_uri": "https://localhost:8080/"
        },
        "id": "Te05uU0WyIGj",
        "outputId": "a304f455-77db-434f-bddc-b509abc695e9"
      },
      "id": "Te05uU0WyIGj",
      "execution_count": 4,
      "outputs": [
        {
          "output_type": "stream",
          "name": "stdout",
          "text": [
            "<class 'int'>\n",
            "<class 'float'>\n"
          ]
        }
      ]
    },
    {
      "cell_type": "code",
      "source": [
        "a = 5\n",
        "b = 2\n",
        "c = a + b\n",
        "d = a - b\n",
        "e = a * b\n",
        "f = a / b\n",
        "print(c)\n",
        "print(d)\n",
        "print(e)\n",
        "print(f)"
      ],
      "metadata": {
        "colab": {
          "base_uri": "https://localhost:8080/"
        },
        "id": "ZKmdcWaJycOb",
        "outputId": "fbb84d9c-54e5-4719-8b11-e6c609dfcf02"
      },
      "id": "ZKmdcWaJycOb",
      "execution_count": 6,
      "outputs": [
        {
          "output_type": "stream",
          "name": "stdout",
          "text": [
            "7\n",
            "3\n",
            "10\n",
            "2.5\n"
          ]
        }
      ]
    },
    {
      "cell_type": "code",
      "source": [
        "a = 5\n",
        "b = 3.5\n",
        "c = 2\n",
        "eq = 2 * a + 3 * b - 5 * c\n",
        "print(eq)"
      ],
      "metadata": {
        "colab": {
          "base_uri": "https://localhost:8080/"
        },
        "id": "OYg6PeY4z0GG",
        "outputId": "441ec10c-9e6e-440b-cca0-28a66ca946ed"
      },
      "id": "OYg6PeY4z0GG",
      "execution_count": 7,
      "outputs": [
        {
          "output_type": "stream",
          "name": "stdout",
          "text": [
            "10.5\n"
          ]
        }
      ]
    },
    {
      "cell_type": "code",
      "source": [
        "# Cálculo de la potencia: dos elevado a la tres\n",
        "a = 2 ** 3\n",
        "\n",
        "# Cálculo de la raíz cuadrada de cinco\n",
        "b = 5 ** 0.5\n",
        "print(a)\n",
        "print(b)"
      ],
      "metadata": {
        "colab": {
          "base_uri": "https://localhost:8080/"
        },
        "id": "77p6AF8V1M3u",
        "outputId": "fbf112a0-0b27-400a-ca16-191a068a377a"
      },
      "id": "77p6AF8V1M3u",
      "execution_count": 10,
      "outputs": [
        {
          "output_type": "stream",
          "name": "stdout",
          "text": [
            "8\n",
            "2.23606797749979\n"
          ]
        }
      ]
    },
    {
      "cell_type": "code",
      "source": [
        "# Cálculo del módulo\n",
        "n = 5\n",
        "x = n % 2\n",
        "print(x)"
      ],
      "metadata": {
        "colab": {
          "base_uri": "https://localhost:8080/"
        },
        "id": "6ARabg6z17YP",
        "outputId": "f40ed1ba-d2d5-48c1-95dd-b38b5e2ab2c6"
      },
      "id": "6ARabg6z17YP",
      "execution_count": 11,
      "outputs": [
        {
          "output_type": "stream",
          "name": "stdout",
          "text": [
            "1\n"
          ]
        }
      ]
    },
    {
      "cell_type": "markdown",
      "source": [
        "## Concatenación"
      ],
      "metadata": {
        "id": "sQKonWGL4ePm"
      },
      "id": "sQKonWGL4ePm"
    },
    {
      "cell_type": "code",
      "source": [
        "greetings = \"Good morning!\"\n",
        "name = \"Miguel\"\n",
        "age = 31\n",
        "message = greetings + \" My name is \" + name + \" and I am \" + str(age) +  \" years old.\"\n",
        "print(message)"
      ],
      "metadata": {
        "colab": {
          "base_uri": "https://localhost:8080/"
        },
        "id": "GnF3iZZF3-te",
        "outputId": "cc4506b4-093e-4882-a9e2-ee3b10ff0d7c"
      },
      "id": "GnF3iZZF3-te",
      "execution_count": 12,
      "outputs": [
        {
          "output_type": "stream",
          "name": "stdout",
          "text": [
            "Good morning! My name is Miguel and I am 31 years old.\n"
          ]
        }
      ]
    },
    {
      "cell_type": "markdown",
      "source": [
        "## +="
      ],
      "metadata": {
        "id": "IDIq1jAZ6ahr"
      },
      "id": "IDIq1jAZ6ahr"
    },
    {
      "cell_type": "code",
      "source": [
        "price = 5000\n",
        "print(price)\n",
        "price += 500\n",
        "price *= 3\n",
        "price /= 5\n",
        "price -= 5\n",
        "print(price)"
      ],
      "metadata": {
        "colab": {
          "base_uri": "https://localhost:8080/"
        },
        "id": "NtLW-Fpi4_at",
        "outputId": "847b6d61-4e8e-4183-ba80-126e849cd8b6"
      },
      "id": "NtLW-Fpi4_at",
      "execution_count": 15,
      "outputs": [
        {
          "output_type": "stream",
          "name": "stdout",
          "text": [
            "5000\n",
            "3295.0\n"
          ]
        }
      ]
    },
    {
      "cell_type": "code",
      "source": [
        "message = \"\"\"This is a paragraph.\n",
        "It has a lot of lines.\n",
        "And if it has any rhyme.\n",
        "That's great.\"\"\"\n",
        "print(message)"
      ],
      "metadata": {
        "colab": {
          "base_uri": "https://localhost:8080/"
        },
        "id": "3purm8Cm6gfp",
        "outputId": "8a106900-dc5d-457c-98f8-1262361332b5"
      },
      "id": "3purm8Cm6gfp",
      "execution_count": 19,
      "outputs": [
        {
          "output_type": "stream",
          "name": "stdout",
          "text": [
            "This is a paragraph.\n",
            "It has a lot of lines.\n",
            "And if it has any rhyme.\n",
            "That's great.\n"
          ]
        }
      ]
    },
    {
      "cell_type": "code",
      "source": [],
      "metadata": {
        "id": "WmNrA0sW8QbP"
      },
      "id": "WmNrA0sW8QbP",
      "execution_count": null,
      "outputs": []
    }
  ],
  "metadata": {
    "kernelspec": {
      "display_name": "Python 3 (ipykernel)",
      "language": "python",
      "name": "python3"
    },
    "language_info": {
      "codemirror_mode": {
        "name": "ipython",
        "version": 3
      },
      "file_extension": ".py",
      "mimetype": "text/x-python",
      "name": "python",
      "nbconvert_exporter": "python",
      "pygments_lexer": "ipython3",
      "version": "3.10.6"
    },
    "colab": {
      "provenance": []
    }
  },
  "nbformat": 4,
  "nbformat_minor": 5
}