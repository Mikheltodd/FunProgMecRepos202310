{
 "cells": [
  {
   "cell_type": "code",
   "execution_count": 6,
   "id": "3192a668",
   "metadata": {},
   "outputs": [
    {
     "name": "stdout",
     "output_type": "stream",
     "text": [
      "A es mayor que B\n"
     ]
    }
   ],
   "source": [
    "A = 5\n",
    "B = 3\n",
    "C = -2\n",
    "\n",
    "if A > B:\n",
    "    print(\"A es mayor que B\")\n",
    "    \n",
    "if A < B:\n",
    "    print(\"A es menor que B\")"
   ]
  },
  {
   "cell_type": "code",
   "execution_count": 7,
   "id": "19c97fe3",
   "metadata": {},
   "outputs": [
    {
     "name": "stdout",
     "output_type": "stream",
     "text": [
      "A es menor o igual que B\n"
     ]
    }
   ],
   "source": [
    "A = 3\n",
    "B = 5\n",
    "if A > B:\n",
    "    print(\"A es mayor que B\")\n",
    "else:\n",
    "    print(\"A es menor o igual que B\")"
   ]
  },
  {
   "cell_type": "code",
   "execution_count": 10,
   "id": "ef4eaf90",
   "metadata": {},
   "outputs": [
    {
     "name": "stdout",
     "output_type": "stream",
     "text": [
      "A es igual a B\n"
     ]
    }
   ],
   "source": [
    "A = 10\n",
    "B = 10\n",
    "\n",
    "if A > B:\n",
    "    print(\"A es mayor que B\")\n",
    "elif A < B:\n",
    "    print(\"A es menor que B\")\n",
    "else:\n",
    "    print(\"A es igual a B\")"
   ]
  },
  {
   "cell_type": "code",
   "execution_count": 16,
   "id": "e77cb3c8",
   "metadata": {},
   "outputs": [
    {
     "name": "stdout",
     "output_type": "stream",
     "text": [
      "Coordenada x: 0\n",
      "Coordenada y: 5\n",
      "Origen.\n"
     ]
    }
   ],
   "source": [
    "x = float(input(\"Coordenada x: \"))\n",
    "y = float(input(\"Coordenada y: \"))\n",
    "\n",
    "if (x > 0) and (y > 0):\n",
    "    print(\"Primer cuadrante.\")\n",
    "elif (x < 0) and (y > 0):\n",
    "    print(\"Segundo cuadrante.\")\n",
    "elif (x < 0) and (y < 0):\n",
    "    print(\"Tercer cuadrante.\")\n",
    "elif (x > 0) and (y < 0):\n",
    "    print(\"Cuarto cuadrante.\")\n",
    "else:\n",
    "    print(\"Origen.\")"
   ]
  },
  {
   "cell_type": "code",
   "execution_count": null,
   "id": "2177ca8c",
   "metadata": {},
   "outputs": [],
   "source": []
  },
  {
   "cell_type": "code",
   "execution_count": null,
   "id": "737d74af",
   "metadata": {},
   "outputs": [],
   "source": []
  },
  {
   "cell_type": "code",
   "execution_count": null,
   "id": "ed0a375e",
   "metadata": {},
   "outputs": [],
   "source": []
  },
  {
   "cell_type": "code",
   "execution_count": null,
   "id": "88ad10e1",
   "metadata": {},
   "outputs": [],
   "source": []
  },
  {
   "cell_type": "code",
   "execution_count": null,
   "id": "4ec78afc",
   "metadata": {},
   "outputs": [],
   "source": []
  }
 ],
 "metadata": {
  "kernelspec": {
   "display_name": "Python 3 (ipykernel)",
   "language": "python",
   "name": "python3"
  },
  "language_info": {
   "codemirror_mode": {
    "name": "ipython",
    "version": 3
   },
   "file_extension": ".py",
   "mimetype": "text/x-python",
   "name": "python",
   "nbconvert_exporter": "python",
   "pygments_lexer": "ipython3",
   "version": "3.10.6"
  }
 },
 "nbformat": 4,
 "nbformat_minor": 5
}
